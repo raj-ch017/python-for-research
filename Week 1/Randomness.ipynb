{
 "cells": [
  {
   "cell_type": "markdown",
   "id": "172bd855",
   "metadata": {},
   "source": [
    "# Randomness and Time\n",
    "---\n",
    "\n",
    "Randomness is a widely used tool in modelling complicated natural processes. It allows us to abstract away the complexities of the phenomenon that we don't fully understand or can't easily model. This approach helps to simplify the modelling process and often leads to a better understanding of the underlying dynamics.\n",
    "\n",
    "\n",
    "Randomness can be used to generate data for statistical analysis, simulate complex systems, optimize solutions, and make predictions in a wide range of fields, including physics, engineering, finance, and biology. In many cases, randomness is introduced using a random number generator that produces a sequence of statistically independent values uniformly distributed over a specified range."
   ]
  },
  {
   "cell_type": "code",
   "execution_count": 1,
   "id": "f1c7ee50",
   "metadata": {},
   "outputs": [],
   "source": [
    "import numpy as np\n",
    "import matplotlib.pyplot as plt\n",
    "import random"
   ]
  },
  {
   "cell_type": "markdown",
   "id": "8805c1ce",
   "metadata": {},
   "source": [
    "The process of flipping a single coin can be simulated using the `choice` method from the `random` library. To use this method, a sequence needs to be provided as input."
   ]
  },
  {
   "cell_type": "code",
   "execution_count": 2,
   "id": "5471cf73",
   "metadata": {},
   "outputs": [
    {
     "data": {
      "text/plain": [
       "'T'"
      ]
     },
     "execution_count": 2,
     "metadata": {},
     "output_type": "execute_result"
    }
   ],
   "source": [
    "random.choice([\"H\",\"T\"])"
   ]
  },
  {
   "cell_type": "markdown",
   "id": "a5238422",
   "metadata": {},
   "source": [
    "The code provided above takes two strings as input and selects one of the options randomly and returns it.\n",
    "\n",
    "\n",
    "A list of numbers can be passed as input to the `choice` method as well. This method randomly chooses one element from the given list and returns it."
   ]
  },
  {
   "cell_type": "code",
   "execution_count": 3,
   "id": "610ff34f",
   "metadata": {},
   "outputs": [
    {
     "data": {
      "text/plain": [
       "0"
      ]
     },
     "execution_count": 3,
     "metadata": {},
     "output_type": "execute_result"
    }
   ],
   "source": [
    "random.choice([0,1])"
   ]
  },
  {
   "cell_type": "markdown",
   "id": "ffd9e78e",
   "metadata": {},
   "source": [
    "If we want to simulate the roll of a die, we can create a list containing the numbers 1 to 6, and then pass it as an input to the `choice` method. This will select a number at random from the list, which will represent the outcome of the die roll."
   ]
  },
  {
   "cell_type": "code",
   "execution_count": 4,
   "id": "054a9b2b",
   "metadata": {},
   "outputs": [
    {
     "data": {
      "text/plain": [
       "3"
      ]
     },
     "execution_count": 4,
     "metadata": {},
     "output_type": "execute_result"
    }
   ],
   "source": [
    "random.choice([1,2,3,4,5,6])"
   ]
  },
  {
   "cell_type": "markdown",
   "id": "08cad22a",
   "metadata": {},
   "source": [
    "The above expression can also be implemented by providing a `range` object as an input."
   ]
  },
  {
   "cell_type": "code",
   "execution_count": 5,
   "id": "dcbec99a",
   "metadata": {},
   "outputs": [
    {
     "data": {
      "text/plain": [
       "3"
      ]
     },
     "execution_count": 5,
     "metadata": {},
     "output_type": "execute_result"
    }
   ],
   "source": [
    "random.choice(range(1,7))"
   ]
  },
  {
   "cell_type": "markdown",
   "id": "dc321797",
   "metadata": {},
   "source": [
    "In a scenario where three dice with different numbers of faces are present, a simulation for rolling a die requires selecting one die uniformly at random and then simulating the roll. The dice in the set have six, eight, and ten faces, respectively."
   ]
  },
  {
   "cell_type": "code",
   "execution_count": 6,
   "id": "ea8c6182",
   "metadata": {},
   "outputs": [],
   "source": [
    "the_die = [range(1,7),range(1,9),range(1,11)]"
   ]
  },
  {
   "cell_type": "code",
   "execution_count": 7,
   "id": "a473075f",
   "metadata": {},
   "outputs": [
    {
     "data": {
      "text/plain": [
       "7"
      ]
     },
     "execution_count": 7,
     "metadata": {},
     "output_type": "execute_result"
    }
   ],
   "source": [
    "random.choice(random.choice(the_die))"
   ]
  },
  {
   "cell_type": "markdown",
   "id": "e43b0608",
   "metadata": {},
   "source": [
    "The innermost random choice first chooses one object from a sequence, which in this case is a list of range objects.\n",
    "\n",
    "The outermost random choice chooses one of the numbers from the given range object."
   ]
  },
  {
   "cell_type": "markdown",
   "id": "4b765073",
   "metadata": {},
   "source": [
    "---\n",
    "\n",
    "# Examples of Randomness and Data Visualization\n"
   ]
  },
  {
   "cell_type": "markdown",
   "id": "9e4e1884",
   "metadata": {},
   "source": [
    "### Example 1 - Rolling a die 1000000 times\n",
    "    \n",
    "- Integers between 1 and 6 will be the observations.\n",
    "\n",
    "- The simulation of the dice roll will be carried out using the random module.\n",
    "\n",
    "- The resulting simulation will be plotted in the form of a histogram."
   ]
  },
  {
   "cell_type": "code",
   "execution_count": 8,
   "id": "65fcb56e",
   "metadata": {},
   "outputs": [],
   "source": [
    "die_roll = []\n",
    "\n",
    "for k in range(1000000):\n",
    "    \n",
    "    roll = random.choice(range(1,7))\n",
    "    die_roll.append(roll)"
   ]
  },
  {
   "cell_type": "code",
   "execution_count": 9,
   "id": "d47555ab",
   "metadata": {},
   "outputs": [
    {
     "data": {
      "image/png": "[encoded data removed]",
      "text/plain": [
       "<Figure size 432x288 with 1 Axes>"
      ]
     },
     "metadata": {
      "needs_background": "light"
     },
     "output_type": "display_data"
    }
   ],
   "source": [
    "plt.hist(die_roll,bins=np.linspace(0.5,6.5,7));"
   ]
  },
  {
   "cell_type": "markdown",
   "id": "d8745950",
   "metadata": {},
   "source": [
    "A flat histogram is obtained because each number has an equal probability of being rolled while rolling a dice."
   ]
  },
  {
   "cell_type": "markdown",
   "id": "851eeb06",
   "metadata": {},
   "source": [
    "---\n",
    "\n",
    "### Example 2 - Rolling 10 independent dies\n",
    "    \n",
    "- Let the 10 dies be labelled as x1 to x10.\n",
    "    \n",
    "- Then, creating a variable named y, such:\n",
    "    \n",
    "    `y = x1 + x2 + x3 + x4 + x5 + x6 + x7 + x8 + x9 + x10`\n",
    "    \n",
    "- Simulations will be conducted a large number of times and a histogram of the results will be plotted."
   ]
  },
  {
   "cell_type": "code",
   "execution_count": 10,
   "id": "cf07ee8f",
   "metadata": {},
   "outputs": [],
   "source": [
    "roll_values = []\n",
    "\n",
    "for turn in range(1000000):\n",
    "    output = 0\n",
    "    \n",
    "    for a_die in range(10):\n",
    "        \n",
    "        a_roll = random.choice([1,2,3,4,5,6])\n",
    "        output += a_roll\n",
    "    \n",
    "    roll_values.append(output)"
   ]
  },
  {
   "cell_type": "code",
   "execution_count": 11,
   "id": "8c43cf8f",
   "metadata": {},
   "outputs": [
    {
     "data": {
      "image/png": "[encoded data removed]",
      "text/plain": [
       "<Figure size 432x288 with 2 Axes>"
      ]
     },
     "metadata": {
      "needs_background": "light"
     },
     "output_type": "display_data"
    }
   ],
   "source": [
    "plt.figure()\n",
    "plt.subplot(121)\n",
    "plt.hist(roll_values);\n",
    "plt.subplot(122)\n",
    "plt.hist(roll_values,density=True);"
   ]
  },
  {
   "cell_type": "markdown",
   "id": "676a2faa",
   "metadata": {},
   "source": [
    "---\n",
    "## Using NumPy Random Module\n",
    "\n",
    "NumPy enables the generation of various types of random variables. It offers a wide range of different random variables.\n",
    "\n",
    "To generate numbers from the standard uniform distribution, which is a completely flat distribution between 0 and 1, where any floating point number between these two endpoints has an equal likelihood, one can start with NumPy."
   ]
  },
  {
   "cell_type": "code",
   "execution_count": 12,
   "id": "5f69b218",
   "metadata": {},
   "outputs": [
    {
     "data": {
      "text/plain": [
       "0.9153362375652734"
      ]
     },
     "execution_count": 12,
     "metadata": {},
     "output_type": "execute_result"
    }
   ],
   "source": [
    "np.random.random()"
   ]
  },
  {
   "cell_type": "markdown",
   "id": "1bba46eb",
   "metadata": {},
   "source": [
    "Instead of just generating a number, a vector of random numbers can be generated in NumPy by inserting the size of the array as an argument."
   ]
  },
  {
   "cell_type": "code",
   "execution_count": 13,
   "id": "ff6cf22a",
   "metadata": {},
   "outputs": [
    {
     "data": {
      "text/plain": [
       "array([0.71752519, 0.07213567, 0.52312627, 0.32718119, 0.23748669,\n",
       "       0.78769892, 0.28416013])"
      ]
     },
     "execution_count": 13,
     "metadata": {},
     "output_type": "execute_result"
    }
   ],
   "source": [
    "np.random.random(7)"
   ]
  },
  {
   "cell_type": "markdown",
   "id": "4e622967",
   "metadata": {},
   "source": [
    "When generating a matrix of random numbers using NumPy, it is necessary to provide a `tuple` as an argument. The tuple represents the dimensions of the matrix. This allows us to generate a matrix of random numbers instead of just a single number or vector."
   ]
  },
  {
   "cell_type": "code",
   "execution_count": 14,
   "id": "2e6bd3e0",
   "metadata": {},
   "outputs": [
    {
     "data": {
      "text/plain": [
       "array([[0.03717941, 0.99569491],\n",
       "       [0.38359329, 0.00361362],\n",
       "       [0.67665635, 0.27219123]])"
      ]
     },
     "execution_count": 14,
     "metadata": {},
     "output_type": "execute_result"
    }
   ],
   "source": [
    "np.random.random((3,2))"
   ]
  },
  {
   "cell_type": "markdown",
   "id": "2859fd53",
   "metadata": {},
   "source": [
    "This section presents an introduction to the normal distribution.\n",
    "\n",
    "A `standard normal distribution` with mean equal to 0 and standard deviation equal to 1 is given in the code below. The syntax for generating random variables from a normal distribution is shown, where the first argument is the mean and the second argument is the standard deviation."
   ]
  },
  {
   "cell_type": "code",
   "execution_count": 15,
   "id": "a01f6b58",
   "metadata": {},
   "outputs": [
    {
     "data": {
      "text/plain": [
       "1.2683472485865839"
      ]
     },
     "execution_count": 15,
     "metadata": {},
     "output_type": "execute_result"
    }
   ],
   "source": [
    "np.random.normal(0,1)"
   ]
  },
  {
   "cell_type": "markdown",
   "id": "4e21cbc7",
   "metadata": {},
   "source": [
    "A vector of random numbers can also be generated from the same distribution by specifying the length of the vector as the third argument."
   ]
  },
  {
   "cell_type": "code",
   "execution_count": 16,
   "id": "0e489491",
   "metadata": {},
   "outputs": [
    {
     "data": {
      "text/plain": [
       "array([-1.01794327, -0.0180977 , -0.98402018,  1.4352664 ,  0.91192435])"
      ]
     },
     "execution_count": 16,
     "metadata": {},
     "output_type": "execute_result"
    }
   ],
   "source": [
    "np.random.normal(0,1,5)"
   ]
  },
  {
   "cell_type": "markdown",
   "id": "b9733292",
   "metadata": {},
   "source": [
    "When generating a normal distribution matrix using NumPy, the user is required to provide the dimensions of the matrix as a tuple.\n",
    "\n",
    "This can be done by passing the tuple as the third argument to the NumPy `random.normal()` function."
   ]
  },
  {
   "cell_type": "code",
   "execution_count": 17,
   "id": "ecc693e6",
   "metadata": {},
   "outputs": [
    {
     "data": {
      "text/plain": [
       "array([[ 0.94670286,  0.08743882,  0.65320139, -0.47645212, -1.30257199],\n",
       "       [ 0.70874351, -0.75233474, -2.22500775,  0.35569514, -0.67735754],\n",
       "       [ 0.49100794,  1.4009917 , -1.67033494, -1.75138849,  1.18227688]])"
      ]
     },
     "execution_count": 17,
     "metadata": {},
     "output_type": "execute_result"
    }
   ],
   "source": [
    "np.random.normal(0,1,(3,5))"
   ]
  },
  {
   "cell_type": "markdown",
   "id": "dc352686",
   "metadata": {},
   "source": [
    "The example of rolling 10 independent die can be simulated using the **NumPy Random** module.\n",
    "\n",
    "To generate random integers between a specified range, NumPy provides the `randint` method. In this case, we need to generate integers within the range (1,7).\n",
    "\n",
    "The `randint` method requires at least one argument, which represents the upper limit of the range. It can also be  provided a second argument, representing the lower limit of the range. If only one argument is provided, the range defaults to `(0, upper limit)`.\n",
    "\n",
    "To generate a vector of random integers, we can pass the size of the array as the second argument to `randint`. Similarly, to generate a matrix of random integers, we can provide a tuple representing the dimensions of the matrix as the third argument."
   ]
  },
  {
   "cell_type": "code",
   "execution_count": 18,
   "id": "04969077",
   "metadata": {},
   "outputs": [
    {
     "data": {
      "text/plain": [
       "array([[4, 2, 4],\n",
       "       [3, 5, 6],\n",
       "       [6, 4, 2],\n",
       "       [1, 4, 1],\n",
       "       [6, 2, 6],\n",
       "       [5, 1, 2],\n",
       "       [2, 4, 6],\n",
       "       [4, 3, 1],\n",
       "       [4, 2, 5],\n",
       "       [4, 2, 2]])"
      ]
     },
     "execution_count": 18,
     "metadata": {},
     "output_type": "execute_result"
    }
   ],
   "source": [
    "np.random.randint(1,7,(10,3))"
   ]
  },
  {
   "cell_type": "markdown",
   "id": "c2306943",
   "metadata": {},
   "source": [
    "The **sum** method provided by NumPy allows to take the sum of all the elements contained in an array.\n",
    "\n",
    "The method requires one input, which is the array whose elements we want to add. It also provides a keyword argument **axis** which can be used to specify whether we would like to add the elements of our matrix row-wise or column-wise."
   ]
  },
  {
   "cell_type": "code",
   "execution_count": 19,
   "id": "fe383adf",
   "metadata": {},
   "outputs": [
    {
     "name": "stdout",
     "output_type": "stream",
     "text": [
      "[[1 4 2 4]\n",
      " [3 1 2 1]\n",
      " [5 5 3 2]]\n"
     ]
    }
   ],
   "source": [
    "test_matrix = np.random.randint(1,6,(3,4))\n",
    "\n",
    "print(test_matrix)"
   ]
  },
  {
   "cell_type": "markdown",
   "id": "0a0e360a",
   "metadata": {},
   "source": [
    "When the value of `axis` is set to 0, the operation of adding the elements of a matrix is performed column-wise."
   ]
  },
  {
   "cell_type": "code",
   "execution_count": 20,
   "id": "b0d79921",
   "metadata": {},
   "outputs": [
    {
     "name": "stdout",
     "output_type": "stream",
     "text": [
      "The row-wise summation of \n",
      "\n",
      "[[1 4 2 4]\n",
      " [3 1 2 1]\n",
      " [5 5 3 2]]\n",
      "\n",
      "yields [ 9 10  7  7]\n"
     ]
    }
   ],
   "source": [
    "row_sum = np.sum(test_matrix,axis=0)\n",
    "print(\"The row-wise summation of \\n\\n{}\\n\\nyields {}\".format(test_matrix,row_sum))"
   ]
  },
  {
   "cell_type": "markdown",
   "id": "65271945",
   "metadata": {},
   "source": [
    "When setting the `axis` parameter to 1, it means that the elements of the matrix will be added column-wise."
   ]
  },
  {
   "cell_type": "code",
   "execution_count": 21,
   "id": "3aa0c752",
   "metadata": {},
   "outputs": [
    {
     "name": "stdout",
     "output_type": "stream",
     "text": [
      "The column-wise summation of \n",
      "\n",
      "[[1 4 2 4]\n",
      " [3 1 2 1]\n",
      " [5 5 3 2]]\n",
      "\n",
      "yields [11  7 15]\n"
     ]
    }
   ],
   "source": [
    "col_sum = np.sum(test_matrix,axis=1)\n",
    "print(\"The column-wise summation of \\n\\n{}\\n\\nyields {}\".format(test_matrix,col_sum))"
   ]
  },
  {
   "cell_type": "markdown",
   "id": "52b2c57e",
   "metadata": {},
   "source": [
    "When the keyword argument `axis` is not provided, the `sum` method of the module simply adds all the elements of the input array and returns a single number as its output."
   ]
  },
  {
   "cell_type": "code",
   "execution_count": 22,
   "id": "2490676f",
   "metadata": {},
   "outputs": [
    {
     "name": "stdout",
     "output_type": "stream",
     "text": [
      "The summation of all elements for \n",
      "\n",
      "[[1 4 2 4]\n",
      " [3 1 2 1]\n",
      " [5 5 3 2]]\n",
      "\n",
      "yields 33\n"
     ]
    }
   ],
   "source": [
    "overall_sum = np.sum(test_matrix)\n",
    "print(\"The summation of all elements for \\n\\n{}\\n\\nyields {}\".format(test_matrix,overall_sum))"
   ]
  },
  {
   "cell_type": "markdown",
   "id": "768f9e6c",
   "metadata": {},
   "source": [
    "First, a table of random integers is generated, where the elements represent the roll of a particular die.\n",
    "\n",
    "The columns are used to represent each of the 10 dies.\n",
    "\n",
    "The rows are used to represent the number of rolls, which in this case is a million."
   ]
  },
  {
   "cell_type": "code",
   "execution_count": 23,
   "id": "f1193d28",
   "metadata": {},
   "outputs": [
    {
     "name": "stdout",
     "output_type": "stream",
     "text": [
      "The simulation matrix has 1000000 rows and 10 columns\n"
     ]
    }
   ],
   "source": [
    "random_roll = np.random.randint(1,7,(1000000,10)) \n",
    "\n",
    "\"\"\"\n",
    "NOTE: the end value is NOT included in the generation of random integers\n",
    "\"\"\"\n",
    "\n",
    "print(\"The simulation matrix has {} rows and {} columns\".format(random_roll.shape[0],random_roll.shape[1]))"
   ]
  },
  {
   "cell_type": "markdown",
   "id": "53e241ab",
   "metadata": {},
   "source": [
    "For a specific roll (represented by a row in the matrix), the aim is to calculate the total sum of the numbers obtained from all the dice.\n",
    "\n",
    "In other words, we need to add column-wise."
   ]
  },
  {
   "cell_type": "code",
   "execution_count": 24,
   "id": "4d2db644",
   "metadata": {},
   "outputs": [
    {
     "name": "stdout",
     "output_type": "stream",
     "text": [
      "Lowest Value: 12\n",
      "Highest Value: 58\n"
     ]
    }
   ],
   "source": [
    "sum_roll = np.sum(random_roll, axis=1)\n",
    "\n",
    "print(\"Lowest Value: {}\\nHighest Value: {}\".format(min(sum_roll),max(sum_roll)))"
   ]
  },
  {
   "cell_type": "code",
   "execution_count": 25,
   "id": "e293ec20",
   "metadata": {},
   "outputs": [
    {
     "data": {
      "image/png": "[encoded data removed]",
      "text/plain": [
       "<Figure size 432x288 with 1 Axes>"
      ]
     },
     "metadata": {
      "needs_background": "light"
     },
     "output_type": "display_data"
    }
   ],
   "source": [
    "plt.hist(sum_roll);"
   ]
  },
  {
   "cell_type": "markdown",
   "id": "3e1b1d5b",
   "metadata": {},
   "source": [
    "---\n",
    "\n",
    "### Measuring Time\n",
    "\n",
    "The time module in Python provides a simple way to measure time. It is used to obtain the current time and date, and to measure elapsed time. This can be accomplished by calling various functions in the module, such as `time()`, `sleep()`, `localtime()`, and `strftime()`."
   ]
  },
  {
   "cell_type": "code",
   "execution_count": 26,
   "id": "1e2b3ce1",
   "metadata": {},
   "outputs": [],
   "source": [
    "import time"
   ]
  },
  {
   "cell_type": "code",
   "execution_count": 27,
   "id": "d8014cb7",
   "metadata": {},
   "outputs": [],
   "source": [
    "start_time = time.time()"
   ]
  },
  {
   "cell_type": "code",
   "execution_count": 28,
   "id": "8b3418dd",
   "metadata": {},
   "outputs": [],
   "source": [
    "end_time = time.time()"
   ]
  },
  {
   "cell_type": "code",
   "execution_count": 29,
   "id": "af70876c",
   "metadata": {},
   "outputs": [
    {
     "data": {
      "text/plain": [
       "1.0100972652435303"
      ]
     },
     "execution_count": 29,
     "metadata": {},
     "output_type": "execute_result"
    }
   ],
   "source": [
    "end_time - start_time"
   ]
  },
  {
   "cell_type": "markdown",
   "id": "7a78cb2d",
   "metadata": {},
   "source": [
    "Measuring the time taken by a segment of code is a common practice to analyze the performance of the code. \n",
    "\n",
    "Two different ways are used to simulate the roll of 10 dies a million times, and it is helpful to measure the time taken by each of them."
   ]
  },
  {
   "cell_type": "markdown",
   "id": "c5769fe2",
   "metadata": {},
   "source": [
    "#### Method 1 - Loops"
   ]
  },
  {
   "cell_type": "code",
   "execution_count": 30,
   "id": "381e856a",
   "metadata": {},
   "outputs": [],
   "source": [
    "start1 = time.time()\n",
    "\n",
    "roll_values = []\n",
    "\n",
    "for turn in range(1000000):\n",
    "    output = 0\n",
    "    \n",
    "    for a_die in range(10):\n",
    "        \n",
    "        a_roll = random.choice([1,2,3,4,5,6])\n",
    "        output += a_roll\n",
    "    \n",
    "    roll_values.append(output)\n",
    "    \n",
    "end1 = time.time()    "
   ]
  },
  {
   "cell_type": "code",
   "execution_count": 31,
   "id": "f9637cf4",
   "metadata": {},
   "outputs": [
    {
     "name": "stdout",
     "output_type": "stream",
     "text": [
      "Loop Method takes 5.475199222564697 secs\n"
     ]
    }
   ],
   "source": [
    "print(\"Loop Method takes {} secs\".format(end1-start1))"
   ]
  },
  {
   "cell_type": "markdown",
   "id": "0fd15a2e",
   "metadata": {},
   "source": [
    "#### Method 2 - NumPy"
   ]
  },
  {
   "cell_type": "code",
   "execution_count": 32,
   "id": "5b35aa49",
   "metadata": {},
   "outputs": [],
   "source": [
    "start2 = time.time()\n",
    "\n",
    "random_roll = np.random.randint(1,7,(1000000,10)) \n",
    "sum_roll = np.sum(random_roll,axis=1)\n",
    "\n",
    "end2 = time.time()"
   ]
  },
  {
   "cell_type": "code",
   "execution_count": 33,
   "id": "3298dfa8",
   "metadata": {},
   "outputs": [
    {
     "name": "stdout",
     "output_type": "stream",
     "text": [
      "NumPy Method takes 0.15597319602966309 secs\n"
     ]
    }
   ],
   "source": [
    "print(\"NumPy Method takes {} secs\".format(end2-start2))"
   ]
  },
  {
   "cell_type": "code",
   "execution_count": 34,
   "id": "2a4dccfe",
   "metadata": {},
   "outputs": [
    {
     "name": "stdout",
     "output_type": "stream",
     "text": [
      "NumPy Method is 35 times faster than Loop Method\n"
     ]
    }
   ],
   "source": [
    "rate = round((end1 - start1) / (end2 - start2))\n",
    "\n",
    "print(\"NumPy Method is {} times faster than Loop Method\".format(rate))"
   ]
  },
  {
   "cell_type": "markdown",
   "id": "a0ffe6fe",
   "metadata": {},
   "source": [
    "---\n",
    "\n",
    "### Random Walks\n",
    "\n",
    "Random walks are stochastic processes that describe the movement of an object in a random direction. They can be used to model various phenomena such as the movement of molecules, the spread of diseases, and the stock market. The properties of random walks are essential in several fields, including physics, mathematics, computer science, and finance."
   ]
  },
  {
   "cell_type": "markdown",
   "id": "294946fd",
   "metadata": {},
   "source": [
    "The location of the random walker at any point in time **t=k** is given by the initial location **x0** plus the sum of all of the displacements from 1 to **k**."
   ]
  },
  {
   "cell_type": "markdown",
   "id": "e88cf49a",
   "metadata": {},
   "source": [
    "#### A Random Walker\n",
    "\n",
    "A code using NumPy can be written to simulate a random walker.\n",
    "\n",
    "The random walker starts at the origin, takes 100 steps, and where each step is sampled from the standard normal distribution.\n",
    "\n",
    "The **horizontal displacement** and **vertical displacement** are independent."
   ]
  },
  {
   "cell_type": "code",
   "execution_count": 35,
   "id": "912a1f70",
   "metadata": {},
   "outputs": [],
   "source": [
    "delta_x = np.random.normal(0,1,(2,100))"
   ]
  },
  {
   "cell_type": "code",
   "execution_count": 36,
   "id": "27a06109",
   "metadata": {},
   "outputs": [],
   "source": [
    "loc_x = np.cumsum(delta_x,axis=1)"
   ]
  },
  {
   "cell_type": "code",
   "execution_count": 37,
   "id": "e31f5891",
   "metadata": {},
   "outputs": [
    {
     "data": {
      "image/png": "[encoded data removed]",
      "text/plain": [
       "<Figure size 432x288 with 1 Axes>"
      ]
     },
     "metadata": {
      "needs_background": "light"
     },
     "output_type": "display_data"
    }
   ],
   "source": [
    "plt.plot(loc_x[0],loc_x[1],'ro');\n",
    "#plt.axis([0,25,min(loc_x[1])-0.5,max(loc_x[1]+0.5)])"
   ]
  },
  {
   "cell_type": "markdown",
   "id": "dc304bf1",
   "metadata": {},
   "source": [
    "Currently, the random walk does not start from the origin.\n",
    "\n",
    "We need to add the array **[[0],[0]]** to **loc_x**. To concatenate arrays, NumPy provides the `concatenate` function which can be used to combine two or more arrays into a single array.\n",
    "\n",
    "For the first argument, we need to provide a tuple containing the arrays that we need to add. \n",
    "\n",
    "The second argument is a keyword argument **axis** that mentions the axis along which the arrays will be joined."
   ]
  },
  {
   "cell_type": "code",
   "execution_count": 38,
   "id": "fa9aba17",
   "metadata": {},
   "outputs": [],
   "source": [
    "origin = np.array([[0],[0]])"
   ]
  },
  {
   "cell_type": "code",
   "execution_count": 39,
   "id": "b9d803a6",
   "metadata": {},
   "outputs": [],
   "source": [
    "loc_x = np.concatenate((origin,loc_x),axis=1)"
   ]
  },
  {
   "cell_type": "code",
   "execution_count": 40,
   "id": "9bcd9644",
   "metadata": {},
   "outputs": [
    {
     "data": {
      "image/png": "[encoded data removed]",
      "text/plain": [
       "<Figure size 432x288 with 1 Axes>"
      ]
     },
     "metadata": {
      "needs_background": "light"
     },
     "output_type": "display_data"
    }
   ],
   "source": [
    "plt.plot(loc_x[0],loc_x[1],'ro-');"
   ]
  }
 ],
 "metadata": {
  "kernelspec": {
   "display_name": "Python 3 (ipykernel)",
   "language": "python",
   "name": "python3"
  },
  "language_info": {
   "codemirror_mode": {
    "name": "ipython",
    "version": 3
   },
   "file_extension": ".py",
   "mimetype": "text/x-python",
   "name": "python",
   "nbconvert_exporter": "python",
   "pygments_lexer": "ipython3",
   "version": "3.9.12"
  }
 },
 "nbformat": 4,
 "nbformat_minor": 5
}
