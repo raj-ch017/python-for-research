{
 "cells": [
  {
   "cell_type": "markdown",
   "id": "5df66e84",
   "metadata": {},
   "source": [
    "# Introduction to Numpy \n",
    "---\n",
    "\n",
    "Numpy is a Python module that is primarily used for scientific computations in various fields such as physics, mathematics, and engineering. \n",
    "\n",
    "Its key feature is the N-dimensional array object, which makes it possible to work with arrays and matrices of different dimensions. This functionality is crucial for scientific and numerical computations.\n",
    "\n",
    "In addition to N-dimensional arrays, Numpy also provides a wide range of tools for performing linear algebra operations, matrix manipulation, and statistical analysis. It also includes a random number generator that can be used to create arrays of random numbers, making it an essential tool for many scientific simulations and experiments."
   ]
  },
  {
   "cell_type": "code",
   "execution_count": 2,
   "id": "98285ec6",
   "metadata": {},
   "outputs": [],
   "source": [
    "import numpy as np"
   ]
  },
  {
   "cell_type": "markdown",
   "id": "7379c5f7",
   "metadata": {},
   "source": [
    "An empty vector and an empty matrix are constructed initially."
   ]
  },
  {
   "cell_type": "code",
   "execution_count": 3,
   "id": "61d20c01",
   "metadata": {},
   "outputs": [
    {
     "data": {
      "text/plain": [
       "array([0., 0., 0., 0., 0., 0., 0.])"
      ]
     },
     "execution_count": 3,
     "metadata": {},
     "output_type": "execute_result"
    }
   ],
   "source": [
    "zero_vector = np.zeros(7)\n",
    "\n",
    "zero_vector"
   ]
  },
  {
   "cell_type": "markdown",
   "id": "151fd5ee",
   "metadata": {},
   "source": [
    "A two-dimensional array can be defined in Numpy by providing a tuple as an argument.\n",
    "\n",
    "The tuple provided as argument specifies two things:\n",
    "\n",
    "* The first argument is the number of rows in the matrix\n",
    "* The second argument is the number of columns in the matrix.\n",
    "\n",
    "So, if the tuple (2,3) is provided as input, the result is a matrix consisting of 2 rows and 3 columns."
   ]
  },
  {
   "cell_type": "code",
   "execution_count": 4,
   "id": "590503ef",
   "metadata": {},
   "outputs": [
    {
     "name": "stdout",
     "output_type": "stream",
     "text": [
      "[[0. 0. 0.]\n",
      " [0. 0. 0.]]\n"
     ]
    }
   ],
   "source": [
    "zero_matrix = np.zeros((2,3))\n",
    "\n",
    "print(zero_matrix)"
   ]
  },
  {
   "cell_type": "code",
   "execution_count": 5,
   "id": "bd261760",
   "metadata": {},
   "outputs": [
    {
     "data": {
      "text/plain": [
       "array([1., 1., 1.])"
      ]
     },
     "execution_count": 5,
     "metadata": {},
     "output_type": "execute_result"
    }
   ],
   "source": [
    "one_vector = np.ones(3)\n",
    "\n",
    "one_vector"
   ]
  },
  {
   "cell_type": "code",
   "execution_count": 7,
   "id": "bb7f7617",
   "metadata": {},
   "outputs": [
    {
     "data": {
      "text/plain": [
       "array([[1., 1., 1., 1., 1., 1., 1.],\n",
       "       [1., 1., 1., 1., 1., 1., 1.],\n",
       "       [1., 1., 1., 1., 1., 1., 1.],\n",
       "       [1., 1., 1., 1., 1., 1., 1.],\n",
       "       [1., 1., 1., 1., 1., 1., 1.]])"
      ]
     },
     "execution_count": 7,
     "metadata": {},
     "output_type": "execute_result"
    }
   ],
   "source": [
    "one_matrix = np.ones((5,7))\n",
    "\n",
    "one_matrix"
   ]
  },
  {
   "cell_type": "markdown",
   "id": "91e3c817",
   "metadata": {},
   "source": [
    "NumPy arrays can be constructed using specific values by making use of the `np.array` function. This function takes a sequence of numbers, which is typically a list of numbers, as its input argument. \n",
    "\n",
    "**It is important to note that in the subsequent discussions, vectors are represented using lowercase variables, while matrices are represented using uppercase variables.**"
   ]
  },
  {
   "cell_type": "code",
   "execution_count": 8,
   "id": "e3cbea17",
   "metadata": {},
   "outputs": [
    {
     "name": "stdout",
     "output_type": "stream",
     "text": [
      "[1 2 3] [2 4 6]\n"
     ]
    }
   ],
   "source": [
    "x = np.array([1,2,3])\n",
    "y = np.array([2,4,6])\n",
    "\n",
    "print(x,y)"
   ]
  },
  {
   "cell_type": "markdown",
   "id": "bbddd38f",
   "metadata": {},
   "source": [
    "When a two-dimensional NumPy array is constructed, the elements of each row are specified as a list. \n",
    "\n",
    "The entire matrix can then be defined as a list of list, which contains each of the list of the row elements."
   ]
  },
  {
   "cell_type": "code",
   "execution_count": 15,
   "id": "68e020c3",
   "metadata": {},
   "outputs": [
    {
     "name": "stdout",
     "output_type": "stream",
     "text": [
      "[[11 22]\n",
      " [55 77]]\n"
     ]
    }
   ],
   "source": [
    "A = np.array([[11,22],[55,77]])\n",
    "\n",
    "print(A)"
   ]
  },
  {
   "cell_type": "markdown",
   "id": "ed383060",
   "metadata": {},
   "source": [
    "NumPy also contains methods that help in taking the transpose of a matrix.\n",
    "\n",
    "The tranpose of a matrix is an operation performed on the matrix in which the rows and columns are interchanged.\n",
    "\n",
    "To put it differently, the elements in the first row of the original matrix become the elements of the first column in the transposed matrix, and so forth for the other rows."
   ]
  },
  {
   "cell_type": "code",
   "execution_count": 22,
   "id": "062e47f4",
   "metadata": {},
   "outputs": [
    {
     "name": "stdout",
     "output_type": "stream",
     "text": [
      "A:\n",
      " [[11 22]\n",
      " [55 77]]\n",
      "\n",
      "Transpose of A:\n",
      " [[11 55]\n",
      " [22 77]]\n"
     ]
    }
   ],
   "source": [
    "transA = A.transpose()\n",
    "\n",
    "print(\"A:\\n\",A)\n",
    "print(\"\\nTranspose of A:\\n\",transA)"
   ]
  },
  {
   "cell_type": "markdown",
   "id": "8429e9d0",
   "metadata": {},
   "source": [
    "---"
   ]
  },
  {
   "cell_type": "markdown",
   "id": "f9298424",
   "metadata": {},
   "source": [
    "### Slicing Numpy Array    \n",
    "\n",
    "NumPy arrays can easily be indexed, regardless of their dimensions.\n",
    "\n",
    "When using NumPy arrays as vectors, individual elements can be accessed using their index positions. It is important to note that indices in NumPy arrays start from 0.\n",
    "\n",
    "With matrices, the first index specifies the row of the array and the second index specifies the column of the array.\n",
    "\n",
    "Numpy arrays can also be sliced using proper indexing. The start index is included but the stop index is not.\n"
   ]
  },
  {
   "cell_type": "code",
   "execution_count": 7,
   "id": "99713a10",
   "metadata": {},
   "outputs": [],
   "source": [
    "x1 = np.array([1,2,3])\n",
    "y1 = np.array([2,4,6])\n",
    "\n",
    "X1 = np.array([[1,2,3],[4,5,6]])\n",
    "Y1 = np.array([[2,4,6],[8,10,12]])"
   ]
  },
  {
   "cell_type": "code",
   "execution_count": 8,
   "id": "7936f2ec",
   "metadata": {},
   "outputs": [
    {
     "data": {
      "text/plain": [
       "3"
      ]
     },
     "execution_count": 8,
     "metadata": {},
     "output_type": "execute_result"
    }
   ],
   "source": [
    "x1[2]"
   ]
  },
  {
   "cell_type": "markdown",
   "id": "b3cc9e44",
   "metadata": {},
   "source": [
    "Two elements of vector `y1` with index 0 and 1 can be obtained by slicing the vector using 0 as the starting index and 2 as the stopping index."
   ]
  },
  {
   "cell_type": "code",
   "execution_count": 9,
   "id": "de1450a3",
   "metadata": {},
   "outputs": [
    {
     "data": {
      "text/plain": [
       "array([2, 4])"
      ]
     },
     "execution_count": 9,
     "metadata": {},
     "output_type": "execute_result"
    }
   ],
   "source": [
    "y1[0:2]"
   ]
  },
  {
   "cell_type": "markdown",
   "id": "73b23ab7",
   "metadata": {},
   "source": [
    "Given two vectors `x1` and `y1` containing three elements each, element-wise addition can be performed by adding corresponding elements of each vector. The result of this operation can be stored in a new vector `z`."
   ]
  },
  {
   "cell_type": "code",
   "execution_count": 11,
   "id": "b9d6ee1a",
   "metadata": {},
   "outputs": [
    {
     "name": "stdout",
     "output_type": "stream",
     "text": [
      "[3 6 9]\n"
     ]
    }
   ],
   "source": [
    "z = x1 + y1\n",
    "\n",
    "print(z)"
   ]
  },
  {
   "cell_type": "markdown",
   "id": "f817af97",
   "metadata": {},
   "source": [
    "The above syntax gives access to the first column of matrix `X1`."
   ]
  },
  {
   "cell_type": "code",
   "execution_count": 12,
   "id": "2d63a01a",
   "metadata": {},
   "outputs": [
    {
     "data": {
      "text/plain": [
       "array([2, 5])"
      ]
     },
     "execution_count": 12,
     "metadata": {},
     "output_type": "execute_result"
    }
   ],
   "source": [
    "X1[:,1]"
   ]
  },
  {
   "cell_type": "markdown",
   "id": "036029d1",
   "metadata": {},
   "source": [
    "The similar operation can be performed on matrix `Y1`."
   ]
  },
  {
   "cell_type": "code",
   "execution_count": 13,
   "id": "ebbe1e2e",
   "metadata": {},
   "outputs": [
    {
     "data": {
      "text/plain": [
       "array([2, 8])"
      ]
     },
     "execution_count": 13,
     "metadata": {},
     "output_type": "execute_result"
    }
   ],
   "source": [
    "Y1[:,0]"
   ]
  },
  {
   "cell_type": "markdown",
   "id": "70968616",
   "metadata": {},
   "source": [
    "The first column of matrix `X1` can be added with `Y1` by using the addition operator. The result of this addition can then be assigned to a matrix named `Z`. The elements of `Z` will be element-wise additions of the corresponding elements from the first column of `X1` and `Y1`."
   ]
  },
  {
   "cell_type": "code",
   "execution_count": 14,
   "id": "b0350c3c",
   "metadata": {},
   "outputs": [
    {
     "name": "stdout",
     "output_type": "stream",
     "text": [
      "[ 6 15]\n"
     ]
    }
   ],
   "source": [
    "Z = X1[:,1] + Y1[:,1]\n",
    "\n",
    "print(Z)"
   ]
  },
  {
   "cell_type": "markdown",
   "id": "9e1b8834",
   "metadata": {},
   "source": [
    "By indexing the row number and using colon as an index for column, the first row of matrix `X1` can be accessed."
   ]
  },
  {
   "cell_type": "code",
   "execution_count": 15,
   "id": "55a44fdf",
   "metadata": {},
   "outputs": [
    {
     "data": {
      "text/plain": [
       "array([1, 2, 3])"
      ]
     },
     "execution_count": 15,
     "metadata": {},
     "output_type": "execute_result"
    }
   ],
   "source": [
    "X1[0,:]"
   ]
  },
  {
   "cell_type": "markdown",
   "id": "67d0a9b3",
   "metadata": {},
   "source": [
    "Alternatively, since matrices are defined as nested lists, a shorthand can also be used to obtain similar result. \n",
    "\n",
    "The second row of matrix `Y1` is sliced out by simply indexing using the row number."
   ]
  },
  {
   "cell_type": "code",
   "execution_count": 16,
   "id": "a3588243",
   "metadata": {},
   "outputs": [
    {
     "data": {
      "text/plain": [
       "array([ 8, 10, 12])"
      ]
     },
     "execution_count": 16,
     "metadata": {},
     "output_type": "execute_result"
    }
   ],
   "source": [
    "Y1[1]"
   ]
  },
  {
   "cell_type": "markdown",
   "id": "255c9704",
   "metadata": {},
   "source": [
    "---"
   ]
  },
  {
   "cell_type": "markdown",
   "id": "7752b6a4",
   "metadata": {},
   "source": [
    "### Indexing Numpy Arrays\n",
    "\n",
    "\n",
    "NumPy arrays can be indexed using other arrays or sequence-like objects like lists in addition to indexing with integers. This feature allows for more complex operations to be performed on NumPy arrays. \n",
    "\n",
    "One can use boolean indexing to get specific elements in an array or use fancy indexing to select a subset of an array. It's also possible to use arithmetic operations and comparison operators to index NumPy arrays. \n",
    "\n",
    "The resulting index can be used to access elements in the original array or to assign new values to those elements."
   ]
  },
  {
   "cell_type": "code",
   "execution_count": 17,
   "id": "dbea8985",
   "metadata": {},
   "outputs": [
    {
     "name": "stdout",
     "output_type": "stream",
     "text": [
      "[1 3 5 7 9]\n"
     ]
    }
   ],
   "source": [
    "z1 = np.array([1,3,5,7,9])\n",
    "\n",
    "print(z1)"
   ]
  },
  {
   "cell_type": "markdown",
   "id": "6c004539",
   "metadata": {},
   "source": [
    "A new vector `z2` can be defined by adding 1 to each element of vector `z1`."
   ]
  },
  {
   "cell_type": "code",
   "execution_count": 41,
   "id": "e2d83a05",
   "metadata": {},
   "outputs": [
    {
     "name": "stdout",
     "output_type": "stream",
     "text": [
      "[ 2  4  6  8 10]\n"
     ]
    }
   ],
   "source": [
    "z2 = z1 + 1\n",
    "\n",
    "print(z2)"
   ]
  },
  {
   "cell_type": "markdown",
   "id": "59feafd7",
   "metadata": {},
   "source": [
    "A list containing the indices used to index `z1` and `z2` is created below."
   ]
  },
  {
   "cell_type": "code",
   "execution_count": 43,
   "id": "7867dd50",
   "metadata": {},
   "outputs": [
    {
     "name": "stdout",
     "output_type": "stream",
     "text": [
      "[1 5 7]\n"
     ]
    }
   ],
   "source": [
    "ind = [0,2,3]\n",
    "\n",
    "print(z1[ind])"
   ]
  },
  {
   "cell_type": "markdown",
   "id": "fd24a753",
   "metadata": {},
   "source": [
    "Using a NumPy array to index other arrays involves creating an index array, where the elements of the index array correspond to the indices of the elements in the other arrays that we want to extract. We can then use this index array to extract the desired elements from the other arrays."
   ]
  },
  {
   "cell_type": "code",
   "execution_count": 46,
   "id": "268b7c6b",
   "metadata": {},
   "outputs": [
    {
     "name": "stdout",
     "output_type": "stream",
     "text": [
      "<class 'numpy.ndarray'>\n",
      "[2 6 8]\n"
     ]
    }
   ],
   "source": [
    "ind = np.array(ind)\n",
    "print(type(ind))\n",
    "\n",
    "print(z2[ind])"
   ]
  },
  {
   "cell_type": "markdown",
   "id": "2257539c",
   "metadata": {},
   "source": [
    "It is also possible to use logical indices to index NumPy arrays. The logical indices are essentially arrays of Boolean values, where `True` and `False` represent the elements that should and should not be included in the indexed array, respectively."
   ]
  },
  {
   "cell_type": "code",
   "execution_count": 47,
   "id": "12d5502b",
   "metadata": {},
   "outputs": [
    {
     "data": {
      "text/plain": [
       "array([False, False, False,  True,  True])"
      ]
     },
     "execution_count": 47,
     "metadata": {},
     "output_type": "execute_result"
    }
   ],
   "source": [
    "z1 > 6"
   ]
  },
  {
   "cell_type": "markdown",
   "id": "eaeeaa62",
   "metadata": {},
   "source": [
    "The first three elements of the vector z1 are determined to be less than 6. Consequently, a Boolean array is generated with its first three elements being `False`.\n",
    "\n",
    "The fourth and fifth elements of the Boolean array are `True`, which correspond to the fourth and fifth elements in the vector z1 that are greater than 6."
   ]
  },
  {
   "cell_type": "code",
   "execution_count": 49,
   "id": "de5672e3",
   "metadata": {},
   "outputs": [
    {
     "name": "stdout",
     "output_type": "stream",
     "text": [
      "[ 2  4  6  8 10]\n"
     ]
    },
    {
     "data": {
      "text/plain": [
       "array([ 6,  8, 10])"
      ]
     },
     "execution_count": 49,
     "metadata": {},
     "output_type": "execute_result"
    }
   ],
   "source": [
    "print(z2)\n",
    "\n",
    "z2[z2 >= 6]"
   ]
  },
  {
   "cell_type": "markdown",
   "id": "0fb0b208",
   "metadata": {},
   "source": [
    "Python returns those elements of the array for which the corresponding value in the Boolean array is **True**.\n",
    "\n",
    "---"
   ]
  },
  {
   "cell_type": "markdown",
   "id": "9e244680",
   "metadata": {},
   "source": [
    "#### Subtle distinction between Slicing and Indexing\n",
    "\n",
    "When an array is sliced using the colon operator, a view of the object is obtained, allowing for modification of the slice which in turn modifies the original array. \n",
    "\n",
    "\n",
    "\n",
    "In contrast, when an array is indexed, a copy of the original array is returned."
   ]
  },
  {
   "cell_type": "code",
   "execution_count": 21,
   "id": "a2870600",
   "metadata": {},
   "outputs": [
    {
     "name": "stdout",
     "output_type": "stream",
     "text": [
      "Vector z1:\n",
      " [100   3   5   7   9]\n",
      "Vector w after slicing:\n",
      " [100   3   5]\n",
      "\n",
      "\n",
      "After reinitializing w\n",
      "\n",
      "Vector w:\n",
      " [100   3   5]\n",
      "Vector z1:\n",
      " [100   3   5   7   9]\n"
     ]
    }
   ],
   "source": [
    "print(\"Vector z1:\\n\",z1)\n",
    "\n",
    "w = z1[0:3]\n",
    "\n",
    "print(\"Vector w after slicing:\\n\",w)\n",
    "\n",
    "w[0] = 100\n",
    "\n",
    "print(\"\\n\\nAfter reinitializing w\\n\")\n",
    "print(\"Vector w:\\n\",w)\n",
    "print(\"Vector z1:\\n\",z1)"
   ]
  },
  {
   "cell_type": "markdown",
   "id": "80f61259",
   "metadata": {},
   "source": [
    "A new vector, `w`, is created by slicing the first elements of `z1`.\n",
    "\n",
    "Modifying the first element in `w` to a value of 100 will also change the first element in the vector `z1`."
   ]
  },
  {
   "cell_type": "code",
   "execution_count": 23,
   "id": "3871d7f6",
   "metadata": {},
   "outputs": [
    {
     "name": "stdout",
     "output_type": "stream",
     "text": [
      "Vector z1:\n",
      " [1 3 5 7 9]\n",
      "Vector w1 after indexing:\n",
      " [1 3 5]\n",
      "\n",
      "\n",
      "After reintializing w1\n",
      "\n",
      "Vector z1:\n",
      " [1 3 5 7 9]\n",
      "Vector w1:\n",
      " [250   3   5]\n"
     ]
    }
   ],
   "source": [
    "z1 = np.array([1,3,5,7,9])\n",
    "\n",
    "ind_vector = [0,1,2]\n",
    "\n",
    "w1 = z1[ind_vector]\n",
    "\n",
    "print(\"Vector z1:\\n\",z1)\n",
    "print(\"Vector w1 after indexing:\\n\",w1)\n",
    "\n",
    "w1[0] = 250\n",
    "\n",
    "print(\"\\n\\nAfter reintializing w1\\n\")\n",
    "print(\"Vector z1:\\n\",z1)\n",
    "print(\"Vector w1:\\n\",w1)\n"
   ]
  },
  {
   "cell_type": "markdown",
   "id": "816ff5bc",
   "metadata": {},
   "source": [
    "By using indexing, it is possible to observe that the first element of vector `w1` has been altered while the first element of vector `z1` remains unchanged."
   ]
  },
  {
   "cell_type": "markdown",
   "id": "e3c5dcfc",
   "metadata": {},
   "source": [
    "---\n",
    "\n",
    "### Building and Examining NumPy Arrays\n",
    "    \n",
    "Numpy provides a couple of ways to construct arrays with fixed start and end values, such that the other elements are uniformly spaced between them."
   ]
  },
  {
   "cell_type": "markdown",
   "id": "3c689920",
   "metadata": {},
   "source": [
    "The first way involves using the numpy `linspace` function.\n",
    "\n",
    "The numpy function, linspace, takes three arguments when called: the starting point, the ending point (which will be included in the resulting array), and the number of elements to be generated in the array."
   ]
  },
  {
   "cell_type": "code",
   "execution_count": 3,
   "id": "659991c8",
   "metadata": {},
   "outputs": [
    {
     "name": "stdout",
     "output_type": "stream",
     "text": [
      "[  0.          11.11111111  22.22222222  33.33333333  44.44444444\n",
      "  55.55555556  66.66666667  77.77777778  88.88888889 100.        ]\n"
     ]
    }
   ],
   "source": [
    "first_array = np.linspace(0,100,10)\n",
    "\n",
    "print(first_array)"
   ]
  },
  {
   "cell_type": "markdown",
   "id": "53800a7e",
   "metadata": {},
   "source": [
    "In addition to linspace, NumPy provides another function called `logspace` that creates an array of elements that are logarithmically spaced.\n",
    "\n",
    "To create an array of ten logarithmically spaced elements between 250 and 500, we first need to take the base 10 logarithm of 250 and 500. The logarithmic values can then be passed as arguments to the `logspace` function."
   ]
  },
  {
   "cell_type": "code",
   "execution_count": 4,
   "id": "191a7d8b",
   "metadata": {
    "scrolled": true
   },
   "outputs": [
    {
     "name": "stdout",
     "output_type": "stream",
     "text": [
      "Log10 of 250: 2.3979400086720375\n",
      "Log10 of 500: 2.6989700043360187\n"
     ]
    }
   ],
   "source": [
    "start_val = np.log10(250)\n",
    "finish_val = np.log10(500)\n",
    "\n",
    "print(\"Log10 of 250: {}\\nLog10 of 500: {}\".format(start_val,finish_val))"
   ]
  },
  {
   "cell_type": "code",
   "execution_count": 5,
   "id": "7409e7bd",
   "metadata": {},
   "outputs": [
    {
     "name": "stdout",
     "output_type": "stream",
     "text": [
      "[250.         270.01493472 291.63225989 314.98026247 340.19750004\n",
      " 367.43362307 396.85026299 428.62199143 462.93735614 500.        ]\n"
     ]
    }
   ],
   "source": [
    "second_array = np.logspace(start_val,finish_val,10)\n",
    "\n",
    "print(second_array)"
   ]
  },
  {
   "cell_type": "markdown",
   "id": "1e318bbf",
   "metadata": {},
   "source": [
    "The shape of an array can be determined by accessing the shape attribute of the array object. \n",
    "\n",
    "For example, if an array object is defined with 2 rows and 4 columns, the shape attribute would return the tuple (2,4)."
   ]
  },
  {
   "cell_type": "code",
   "execution_count": 6,
   "id": "698cae74",
   "metadata": {},
   "outputs": [
    {
     "name": "stdout",
     "output_type": "stream",
     "text": [
      "(2, 4)\n",
      "\n",
      "Matrix B has 2 rows and 4 columns\n"
     ]
    }
   ],
   "source": [
    "B = np.array([[1,2,3,4],[10,11,12,13]])\n",
    "\n",
    "print(B.shape)\n",
    "\n",
    "print(\"\\nMatrix B has {} rows and {} columns\".format(B.shape[0],B.shape[1]))"
   ]
  },
  {
   "cell_type": "markdown",
   "id": "19e303c9",
   "metadata": {},
   "source": [
    "When the `size` attribute is called on an array object, it returns the total number of elements in the array. This can be used to confirm that the multiplication of the rows and columns of the shape attribute equals the number of elements in the array."
   ]
  },
  {
   "cell_type": "code",
   "execution_count": 7,
   "id": "b4d3b7b8",
   "metadata": {},
   "outputs": [
    {
     "name": "stdout",
     "output_type": "stream",
     "text": [
      "Matrix B contains 8 elements\n"
     ]
    }
   ],
   "source": [
    "print(\"Matrix B contains {} elements\".format(B.size))"
   ]
  },
  {
   "cell_type": "markdown",
   "id": "c33ac208",
   "metadata": {},
   "source": [
    "In array manipulation, it is common to encounter scenarios where it is necessary to verify whether any or all elements of an array meet a particular logical condition.\n",
    "\n",
    "\n",
    "Generating a small vector to check two things:\n",
    "\n",
    "- First, if any of its entries are greater than 0.9\n",
    "- Second, if all of its entries are greater than or equal to 0.1"
   ]
  },
  {
   "cell_type": "markdown",
   "id": "cc60093b",
   "metadata": {},
   "source": [
    "A vector is created by generating 10 random numbers drawn from the standard uniform distribution."
   ]
  },
  {
   "cell_type": "code",
   "execution_count": 13,
   "id": "79451372",
   "metadata": {},
   "outputs": [],
   "source": [
    "vector1 = np.random.random(10)"
   ]
  },
  {
   "cell_type": "markdown",
   "id": "9258de0f",
   "metadata": {},
   "source": [
    "The `any` method can be used to check if any of the elements in an array satisfy a logical condition."
   ]
  },
  {
   "cell_type": "code",
   "execution_count": 14,
   "id": "af28ebc2",
   "metadata": {},
   "outputs": [
    {
     "name": "stdout",
     "output_type": "stream",
     "text": [
      "Vector with an element greater than 0.9: True\n"
     ]
    }
   ],
   "source": [
    "if np.any(vector1 > 0.9):\n",
    "    print(\"Vector with an element greater than 0.9: {}\".format(np.any(vector1>0.9)))\n",
    "\n",
    "else:\n",
    "    print(\"Vector with an element greater than 0.9: {}\".format(np.any(vector1>0.9)))"
   ]
  },
  {
   "cell_type": "markdown",
   "id": "de4db9e5",
   "metadata": {},
   "source": [
    "The numpy method `all` can be utilized to check if all the elements of an array fulfill a logical condition."
   ]
  },
  {
   "cell_type": "code",
   "execution_count": 15,
   "id": "8bf14625",
   "metadata": {},
   "outputs": [
    {
     "name": "stdout",
     "output_type": "stream",
     "text": [
      "Vector with all elements greater than or equal 0.1: True\n"
     ]
    }
   ],
   "source": [
    "if np.all(vector1 >= 0.1):\n",
    "    print(\"Vector with all elements greater than or equal 0.1: {}\".format(np.all(vector1>=0.1)))\n",
    "else:\n",
    "    print(\"Vector with all elements greater than or equal 0.1: {}\".format(np.all(vector1>=0.1)))"
   ]
  },
  {
   "cell_type": "markdown",
   "id": "6bfab7d4",
   "metadata": {},
   "source": [
    "As the vector generated is relatively small, one can print the vector and check if the conditions are met."
   ]
  },
  {
   "cell_type": "code",
   "execution_count": 16,
   "id": "7604cf29",
   "metadata": {},
   "outputs": [
    {
     "name": "stdout",
     "output_type": "stream",
     "text": [
      "[0.93557858 0.68188266 0.46739248 0.6135025  0.80004963 0.20660151\n",
      " 0.77719938 0.62235582 0.50057327 0.12788521]\n"
     ]
    }
   ],
   "source": [
    "print(vector1)"
   ]
  },
  {
   "cell_type": "markdown",
   "id": "048d7d6e",
   "metadata": {},
   "source": [
    "The function produces a scalar output of either `True` or `False` for the entire array instead of a logical array."
   ]
  }
 ],
 "metadata": {
  "kernelspec": {
   "display_name": "Python 3 (ipykernel)",
   "language": "python",
   "name": "python3"
  },
  "language_info": {
   "codemirror_mode": {
    "name": "ipython",
    "version": 3
   },
   "file_extension": ".py",
   "mimetype": "text/x-python",
   "name": "python",
   "nbconvert_exporter": "python",
   "pygments_lexer": "ipython3",
   "version": "3.9.12"
  }
 },
 "nbformat": 4,
 "nbformat_minor": 5
}
