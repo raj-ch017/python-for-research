{
 "cells": [
  {
   "cell_type": "markdown",
   "id": "579b62e5",
   "metadata": {},
   "source": [
    "# Case Study - Language Processing\n",
    "\n",
    "Patterns within written text are not the same across all authors or languages. This allows linguists to study the language of origin.\n",
    "\n",
    "In this study, we will examine the properties of individual books in a book collection from various authors and various languages.\n",
    "\n",
    "More specifically, we will look at book lengths, number of unique words, and how these attributes cluster by language of authorship."
   ]
  },
  {
   "cell_type": "markdown",
   "id": "56f74ab8",
   "metadata": {},
   "source": [
    "---\n",
    "The collection for this study consists of four languages: **English**, **French**, **German** and **Portuguese**.\n",
    "\n",
    "For each langauge, we have from one to four authors each, **13** authors in total.\n",
    "\n",
    "For each author, we have from one to sixteen book, **102** books in total.\n",
    "\n",
    "Some authors have appeared in several language categories because their books are available as translations in several languages."
   ]
  },
  {
   "cell_type": "markdown",
   "id": "7ea30570",
   "metadata": {},
   "source": [
    "The **goal of this study** is to write a function that given a string of text counts the number of times each unique word appears."
   ]
  },
  {
   "cell_type": "code",
   "execution_count": 1,
   "id": "1767a0fc",
   "metadata": {},
   "outputs": [],
   "source": [
    "text = \"This is my test text. We're keeping this text short to keep things manageable.\""
   ]
  },
  {
   "cell_type": "code",
   "execution_count": 3,
   "id": "c6fa89cf",
   "metadata": {},
   "outputs": [
    {
     "data": {
      "text/plain": [
       "['This',\n",
       " 'is',\n",
       " 'my',\n",
       " 'test',\n",
       " 'text.',\n",
       " \"We're\",\n",
       " 'keeping',\n",
       " 'this',\n",
       " 'text',\n",
       " 'short',\n",
       " 'to',\n",
       " 'keep',\n",
       " 'things',\n",
       " 'manageable.']"
      ]
     },
     "execution_count": 3,
     "metadata": {},
     "output_type": "execute_result"
    }
   ],
   "source": [
    "word_list = list(text.split())\n",
    "\n",
    "word_list"
   ]
  },
  {
   "cell_type": "code",
   "execution_count": 20,
   "id": "f59a7f96",
   "metadata": {},
   "outputs": [],
   "source": [
    "def clean_string(input_string):\n",
    "    \"\"\"\n",
    "    Input\n",
    "        input_string - string containing punctuations\n",
    "    Output\n",
    "        clean_string - string with punctuations replaced by empty string\n",
    "    \"\"\"\n",
    "    \n",
    "    check_list = [\",\",\".\",\";\",\":\",\"'\",'\"',\"!\",\"?\"]\n",
    "    clean_string = \"\"\n",
    "    \n",
    "    for ch in check_list:\n",
    "        \n",
    "        input_string = input_string.replace(ch,\"\")\n",
    "        \n",
    "    return input_string"
   ]
  },
  {
   "cell_type": "code",
   "execution_count": 21,
   "id": "224d3701",
   "metadata": {},
   "outputs": [
    {
     "name": "stdout",
     "output_type": "stream",
     "text": [
      "This is my test text Were keeping this text short to keep things manageable\n"
     ]
    }
   ],
   "source": [
    "print(clean_string(text))"
   ]
  },
  {
   "cell_type": "code",
   "execution_count": 22,
   "id": "0a36b140",
   "metadata": {},
   "outputs": [],
   "source": [
    "def count_words(the_string):\n",
    "    \n",
    "    word_count = {}\n",
    "    \n",
    "    working_string = clean_string(the_string.lower())\n",
    "    word_list = working_string.split()\n",
    "    \n",
    "    for word in word_list:\n",
    "        \n",
    "        if word in word_count:\n",
    "            \n",
    "            word_count[word] += 1\n",
    "        \n",
    "        else:\n",
    "            \n",
    "            word_count[word] = 1\n",
    "            \n",
    "    return word_count"
   ]
  },
  {
   "cell_type": "code",
   "execution_count": 23,
   "id": "e755fe5e",
   "metadata": {
    "scrolled": true
   },
   "outputs": [
    {
     "name": "stdout",
     "output_type": "stream",
     "text": [
      "{'this': 2, 'is': 1, 'my': 1, 'test': 1, 'text': 2, 'were': 1, 'keeping': 1, 'short': 1, 'to': 1, 'keep': 1, 'things': 1, 'manageable': 1}\n"
     ]
    }
   ],
   "source": [
    "print(count_words(text))"
   ]
  },
  {
   "cell_type": "markdown",
   "id": "c4a70a9b",
   "metadata": {},
   "source": [
    "Counting the frequency of objects is such a common operation that Python provides a **counter** tool, which has to be imported from the collection moddule.\n",
    "\n",
    "The object returned by counter behaves much like a dictionary, although its a subclass of the Python dictionary object."
   ]
  },
  {
   "cell_type": "code",
   "execution_count": 32,
   "id": "de5b2acd",
   "metadata": {},
   "outputs": [],
   "source": [
    "from collections import Counter"
   ]
  },
  {
   "cell_type": "code",
   "execution_count": 33,
   "id": "42c32713",
   "metadata": {},
   "outputs": [],
   "source": [
    "def count_words_fast(the_string):\n",
    "    \n",
    "    working_string = clean_string(the_string.lower())\n",
    "    word_list = working_string.split(\" \")\n",
    "    \n",
    "    word_count = Counter(word_list)\n",
    "    \n",
    "    return word_count"
   ]
  },
  {
   "cell_type": "code",
   "execution_count": 37,
   "id": "39435c10",
   "metadata": {},
   "outputs": [
    {
     "data": {
      "text/plain": [
       "True"
      ]
     },
     "execution_count": 37,
     "metadata": {},
     "output_type": "execute_result"
    }
   ],
   "source": [
    "count_words_fast(text) == count_words(text)"
   ]
  },
  {
   "cell_type": "code",
   "execution_count": 38,
   "id": "6747bbd6",
   "metadata": {},
   "outputs": [],
   "source": [
    "def read_book(path_title):\n",
    "    \"\"\"\n",
    "    Input\n",
    "        path_title - path for a book\n",
    "    Output\n",
    "        book - returns the book as a string\n",
    "    \"\"\"\n",
    "    \n",
    "    with open(path_title, \"r\", encoding=\"utf8\") as current_file:\n",
    "        \n",
    "        text = current_file.read()\n",
    "        book = text.replace(\"\\n\",\"\").replace(\"\\r\",\"\")\n",
    "        \n",
    "    return book"
   ]
  },
  {
   "cell_type": "code",
   "execution_count": 39,
   "id": "b6ec12c2",
   "metadata": {},
   "outputs": [],
   "source": [
    "hamlet_path = \"/Users/rajdeep_ch/Documents/projects/project_notebooks/python_research/books/English/shakespeare/Hamlet.txt\""
   ]
  },
  {
   "cell_type": "code",
   "execution_count": 40,
   "id": "4e1efa24",
   "metadata": {},
   "outputs": [],
   "source": [
    "hamlet = read_book(hamlet_path)"
   ]
  },
  {
   "cell_type": "code",
   "execution_count": 46,
   "id": "89a766fe",
   "metadata": {},
   "outputs": [],
   "source": [
    "hamlet_quote = \"There are more things in heaven and earth\""
   ]
  },
  {
   "cell_type": "code",
   "execution_count": 47,
   "id": "c1e3f21a",
   "metadata": {},
   "outputs": [
    {
     "data": {
      "text/plain": [
       "-1"
      ]
     },
     "execution_count": 47,
     "metadata": {},
     "output_type": "execute_result"
    }
   ],
   "source": [
    "hamlet.find(hamlet_quote)"
   ]
  },
  {
   "cell_type": "code",
   "execution_count": 48,
   "id": "8e59301b",
   "metadata": {},
   "outputs": [
    {
     "data": {
      "text/plain": [
       "'The Tragedie of HamletActus Primus Scoena PrimaEnter Barnardo and Francisco two Centinels  Barnardo Whos there  Fran Nay answer me Stand  vnfoldyour selfe   Bar Long liue the King   Fran Barnardo  Bar He   Fran You come most carefully vpon your houre   Bar Tis now strook twelue get thee to bed Francisco   Fran For this releefe much thankes Tis bitter coldAnd I am sicke at heart   Barn Haue you had quiet Guard  Fran Not a Mouse stirring   Barn Well goodnight If you do meet Horatio andMarcellus the Riuals of my Watch bid them make hastEnter Horatio and Marcellus  Fran I thinke I heare them Stand whos there  Hor Friends to this ground   Mar And Leigemen to the Dane   Fran Giue you good night   Mar O farwel honest Soldier who hath relieud you  Fra Barnardo has my place giue you goodnightExit Fran  Mar Holla Barnardo   Bar Say what is Horatio there  Hor A peece of him   Bar Welcome Horatio welcome good Marcellus   Mar What has this thing appeard againe to night   Bar I haue seene nothing   '"
      ]
     },
     "execution_count": 48,
     "metadata": {},
     "output_type": "execute_result"
    }
   ],
   "source": [
    "hamlet[0:1000]"
   ]
  },
  {
   "cell_type": "markdown",
   "id": "ae4eae06",
   "metadata": {},
   "source": [
    "Given a **dictionary** or a **counter** object from collections module, we would like to known how many unique words there are in a given book.\n",
    "\n",
    "We will also return the frequencies of each word.\n",
    "\n",
    "The function that we will be using is called **word_stats**.."
   ]
  },
  {
   "cell_type": "code",
   "execution_count": 50,
   "id": "0c434313",
   "metadata": {},
   "outputs": [],
   "source": [
    "def word_stats(book_title):\n",
    "    \n",
    "    \"\"\"\n",
    "    Function takes in a book title as it's input and returns the \n",
    "    number of unique word and frequencies of each word.\n",
    "    \"\"\"\n",
    "    \n",
    "    word_count = count_words(book_title)\n",
    "    \n",
    "    num_unique = len(word_count)\n",
    "    counts = word_count.values()\n",
    "    \n",
    "    return (num_unique, counts)"
   ]
  },
  {
   "cell_type": "code",
   "execution_count": 68,
   "id": "bb0cd25b",
   "metadata": {},
   "outputs": [],
   "source": [
    "hamlet_stats = word_stats(hamlet)\n",
    "\n",
    "hamlet_unique = hamlet_stats[0]\n",
    "hamlet_total = sum(hamlet_stats[1])"
   ]
  },
  {
   "cell_type": "markdown",
   "id": "3bae9188",
   "metadata": {},
   "source": [
    "Let's use the **word_stats** function to compare Shakespeare's Hamlet in English and it's German translation."
   ]
  },
  {
   "cell_type": "code",
   "execution_count": 67,
   "id": "a367218e",
   "metadata": {},
   "outputs": [],
   "source": [
    "hamlet_german_path = \"/Users/rajdeep_ch/Documents/projects/project_notebooks/python_research/books/German/shakespeare/Hamlet.txt\"\n",
    "\n",
    "hamlet_german = read_book(hamlet_german_path)\n",
    "\n",
    "german_hamlet_stats = word_stats(hamlet_german)"
   ]
  },
  {
   "cell_type": "code",
   "execution_count": 69,
   "id": "147e75f4",
   "metadata": {},
   "outputs": [],
   "source": [
    "german_hamlet_unique = german_hamlet_stats[0]\n",
    "german_hamlet_total = sum(german_hamlet_stats[1])"
   ]
  },
  {
   "cell_type": "code",
   "execution_count": 75,
   "id": "689fee01",
   "metadata": {},
   "outputs": [
    {
     "name": "stdout",
     "output_type": "stream",
     "text": [
      "English version of Hamlet:\n",
      "\n",
      " 6775 unique words\n",
      " 26701 words in total\n",
      "\n",
      "German version of Hamlet:\n",
      "\n",
      " 9469 unique words\n",
      " 30689 words in total\n",
      "\n"
     ]
    }
   ],
   "source": [
    "print(\"English version of Hamlet:\\n\\n {} unique words\\n {} words in total\\n\".format(hamlet_unique,hamlet_total))\n",
    "\n",
    "print(\"German version of Hamlet:\\n\\n {} unique words\\n {} words in total\\n\".format(german_hamlet_unique,german_hamlet_total))"
   ]
  },
  {
   "cell_type": "markdown",
   "id": "419ea891",
   "metadata": {},
   "source": [
    "---\n",
    "#### Reading Multiple Files\n",
    "\n",
    "The goal here is to read every book contained in various subdirectories of our book folder\n",
    "\n",
    "We first need to import the **OS** module."
   ]
  },
  {
   "cell_type": "code",
   "execution_count": 77,
   "id": "f4431d01",
   "metadata": {},
   "outputs": [],
   "source": [
    "import os"
   ]
  },
  {
   "cell_type": "code",
   "execution_count": 95,
   "id": "984351e5",
   "metadata": {},
   "outputs": [],
   "source": [
    "book_dir = \"/Users/rajdeep_ch/Documents/projects/project_notebooks/python_research/books\""
   ]
  },
  {
   "cell_type": "code",
   "execution_count": 100,
   "id": "60796c53",
   "metadata": {},
   "outputs": [
    {
     "data": {
      "text/plain": [
       "list"
      ]
     },
     "execution_count": 100,
     "metadata": {},
     "output_type": "execute_result"
    }
   ],
   "source": [
    "type(os.listdir(book_dir))"
   ]
  },
  {
   "cell_type": "code",
   "execution_count": 103,
   "id": "64ae3896",
   "metadata": {},
   "outputs": [],
   "source": [
    "def listdir_nohidden(path):\n",
    "    \n",
    "    file_list = []\n",
    "    \n",
    "    for file in os.listdir(path):\n",
    "        if not file.startswith('.'):\n",
    "            file_list.append(file)\n",
    "            \n",
    "    return file_list"
   ]
  },
  {
   "cell_type": "code",
   "execution_count": 182,
   "id": "c51c2914",
   "metadata": {},
   "outputs": [
    {
     "data": {
      "text/plain": [
       "['German', 'English', 'Portuguese', 'French']"
      ]
     },
     "execution_count": 182,
     "metadata": {},
     "output_type": "execute_result"
    }
   ],
   "source": [
    "listdir_nohidden(book_dir)"
   ]
  },
  {
   "cell_type": "code",
   "execution_count": 109,
   "id": "e819c832",
   "metadata": {},
   "outputs": [
    {
     "data": {
      "text/plain": [
       "['schiller', 'lessing', 'raimund', 'shakespeare']"
      ]
     },
     "execution_count": 109,
     "metadata": {},
     "output_type": "execute_result"
    }
   ],
   "source": [
    "listdir_nohidden(book_dir+\"/German\")"
   ]
  },
  {
   "cell_type": "code",
   "execution_count": 127,
   "id": "cf64622e",
   "metadata": {},
   "outputs": [],
   "source": [
    "for language in language_level:\n",
    "    \n",
    "    for author in listdir_nohidden(book_dir+\"/\"+language):\n",
    "        \n",
    "        for title in listdir_nohidden(book_dir + \"/\" + language + \"/\" + author):\n",
    "            \n",
    "            book_path = book_dir + \"/\" + language + \"/\" + author + \"/\" + title\n",
    "            book = read_book(book_path)\n",
    "            unique_words, total_words = word_stats(book)"
   ]
  },
  {
   "cell_type": "markdown",
   "id": "a38a22be",
   "metadata": {},
   "source": [
    "---\n",
    "\n",
    "#### Pandas\n",
    "\n",
    "**pandas** is a library that provides additional data structures and data analysis functionalities for Python.\n",
    "\n",
    "It's help in manipulating numerical tables and time series data."
   ]
  },
  {
   "cell_type": "code",
   "execution_count": 118,
   "id": "48ad917a",
   "metadata": {},
   "outputs": [],
   "source": [
    "import pandas as pd"
   ]
  },
  {
   "cell_type": "markdown",
   "id": "1f8e5806",
   "metadata": {},
   "source": [
    "The most common data structure in **pandas** is a data frame. \n",
    "\n",
    "A data frame can be created using the **DataFrame** method."
   ]
  },
  {
   "cell_type": "code",
   "execution_count": 119,
   "id": "d4e331b0",
   "metadata": {},
   "outputs": [],
   "source": [
    "dataframe = pd.DataFrame(columns = (\"name\",\"age\"))"
   ]
  },
  {
   "cell_type": "code",
   "execution_count": 124,
   "id": "379e7a0b",
   "metadata": {},
   "outputs": [],
   "source": [
    "dataframe.loc[0] = \"Rajdeep\", 23\n",
    "dataframe.loc[1] = \"Pal\", 48"
   ]
  },
  {
   "cell_type": "code",
   "execution_count": 126,
   "id": "2b63b26e",
   "metadata": {},
   "outputs": [
    {
     "data": {
      "text/plain": [
       "Index(['name', 'age'], dtype='object')"
      ]
     },
     "execution_count": 126,
     "metadata": {},
     "output_type": "execute_result"
    }
   ],
   "source": [
    "dataframe.columns"
   ]
  },
  {
   "cell_type": "markdown",
   "id": "2a30f5af",
   "metadata": {},
   "source": [
    "Let's create a table for our books that will have the following columns:\n",
    "\n",
    "    * Language\n",
    "    * Author\n",
    "    * Title\n",
    "    * Length\n",
    "    * Unique"
   ]
  },
  {
   "cell_type": "code",
   "execution_count": 181,
   "id": "f810154e",
   "metadata": {},
   "outputs": [],
   "source": [
    "def book_stats(column_list):    \n",
    "    \n",
    "    table = pd.DataFrame(columns = [\"Author\", \"Title\", \"Language\",\"Length\", \"Unique\"])\n",
    "\n",
    "    row_num = 1\n",
    "    \n",
    "    for language in language_level:\n",
    "\n",
    "        for author in listdir_nohidden(book_dir+\"/\"+language):\n",
    "\n",
    "            for title in listdir_nohidden(book_dir + \"/\" + language + \"/\" + author):\n",
    "\n",
    "                book_path = book_dir + \"/\" + language + \"/\" + author + \"/\" + title\n",
    "                book = read_book(book_path)\n",
    "                unique_words, total_words = word_stats(book)\n",
    "                table.loc[row_num] = author.title(), title.replace(\".txt\",\"\"), language, sum(total_words), unique_words\n",
    "                row_num += 1\n",
    "    \n",
    "    return table"
   ]
  },
  {
   "cell_type": "code",
   "execution_count": 147,
   "id": "f3ca1058",
   "metadata": {},
   "outputs": [
    {
     "data": {
      "text/html": [
       "<div>\n",
       "<style scoped>\n",
       "    .dataframe tbody tr th:only-of-type {\n",
       "        vertical-align: middle;\n",
       "    }\n",
       "\n",
       "    .dataframe tbody tr th {\n",
       "        vertical-align: top;\n",
       "    }\n",
       "\n",
       "    .dataframe thead th {\n",
       "        text-align: right;\n",
       "    }\n",
       "</style>\n",
       "<table border=\"1\" class=\"dataframe\">\n",
       "  <thead>\n",
       "    <tr style=\"text-align: right;\">\n",
       "      <th></th>\n",
       "      <th>Author</th>\n",
       "      <th>Title</th>\n",
       "      <th>Language</th>\n",
       "      <th>Length</th>\n",
       "      <th>Unique</th>\n",
       "    </tr>\n",
       "  </thead>\n",
       "  <tbody>\n",
       "    <tr>\n",
       "      <th>1</th>\n",
       "      <td>Schiller</td>\n",
       "      <td>Wallensteins Lager</td>\n",
       "      <td>German</td>\n",
       "      <td>13302</td>\n",
       "      <td>4240</td>\n",
       "    </tr>\n",
       "    <tr>\n",
       "      <th>2</th>\n",
       "      <td>Schiller</td>\n",
       "      <td>die braut von messina</td>\n",
       "      <td>German</td>\n",
       "      <td>22349</td>\n",
       "      <td>6344</td>\n",
       "    </tr>\n",
       "    <tr>\n",
       "      <th>3</th>\n",
       "      <td>Schiller</td>\n",
       "      <td>Der Parasit, oder die Kunst, sein GlÅck zu ma...</td>\n",
       "      <td>German</td>\n",
       "      <td>18515</td>\n",
       "      <td>5918</td>\n",
       "    </tr>\n",
       "    <tr>\n",
       "      <th>4</th>\n",
       "      <td>Schiller</td>\n",
       "      <td>Die Verschwîrung des Fiesco zu Genua</td>\n",
       "      <td>German</td>\n",
       "      <td>28042</td>\n",
       "      <td>9995</td>\n",
       "    </tr>\n",
       "    <tr>\n",
       "      <th>5</th>\n",
       "      <td>Schiller</td>\n",
       "      <td>Kabale und Liebe</td>\n",
       "      <td>German</td>\n",
       "      <td>28433</td>\n",
       "      <td>9607</td>\n",
       "    </tr>\n",
       "  </tbody>\n",
       "</table>\n",
       "</div>"
      ],
      "text/plain": [
       "     Author                                              Title Language  \\\n",
       "1  Schiller                                 Wallensteins Lager   German   \n",
       "2  Schiller                              die braut von messina   German   \n",
       "3  Schiller  Der Parasit, oder die Kunst, sein GlÅck zu ma...   German   \n",
       "4  Schiller              Die Verschwîrung des Fiesco zu Genua   German   \n",
       "5  Schiller                                   Kabale und Liebe   German   \n",
       "\n",
       "   Length  Unique  \n",
       "1   13302    4240  \n",
       "2   22349    6344  \n",
       "3   18515    5918  \n",
       "4   28042    9995  \n",
       "5   28433    9607  "
      ]
     },
     "execution_count": 147,
     "metadata": {},
     "output_type": "execute_result"
    }
   ],
   "source": [
    "stats = book_stats() "
   ]
  },
  {
   "cell_type": "code",
   "execution_count": 148,
   "id": "f51c5c33",
   "metadata": {},
   "outputs": [
    {
     "data": {
      "text/html": [
       "<div>\n",
       "<style scoped>\n",
       "    .dataframe tbody tr th:only-of-type {\n",
       "        vertical-align: middle;\n",
       "    }\n",
       "\n",
       "    .dataframe tbody tr th {\n",
       "        vertical-align: top;\n",
       "    }\n",
       "\n",
       "    .dataframe thead th {\n",
       "        text-align: right;\n",
       "    }\n",
       "</style>\n",
       "<table border=\"1\" class=\"dataframe\">\n",
       "  <thead>\n",
       "    <tr style=\"text-align: right;\">\n",
       "      <th></th>\n",
       "      <th>Author</th>\n",
       "      <th>Title</th>\n",
       "      <th>Language</th>\n",
       "      <th>Length</th>\n",
       "      <th>Unique</th>\n",
       "    </tr>\n",
       "  </thead>\n",
       "  <tbody>\n",
       "    <tr>\n",
       "      <th>98</th>\n",
       "      <td>Sand</td>\n",
       "      <td>La Marquise</td>\n",
       "      <td>French</td>\n",
       "      <td>14529</td>\n",
       "      <td>4755</td>\n",
       "    </tr>\n",
       "    <tr>\n",
       "      <th>99</th>\n",
       "      <td>Sand</td>\n",
       "      <td>L' Orco</td>\n",
       "      <td>French</td>\n",
       "      <td>8558</td>\n",
       "      <td>3134</td>\n",
       "    </tr>\n",
       "    <tr>\n",
       "      <th>100</th>\n",
       "      <td>Sand</td>\n",
       "      <td>Mattea</td>\n",
       "      <td>French</td>\n",
       "      <td>20902</td>\n",
       "      <td>6390</td>\n",
       "    </tr>\n",
       "    <tr>\n",
       "      <th>101</th>\n",
       "      <td>Sand</td>\n",
       "      <td>Metella</td>\n",
       "      <td>French</td>\n",
       "      <td>19411</td>\n",
       "      <td>5645</td>\n",
       "    </tr>\n",
       "    <tr>\n",
       "      <th>102</th>\n",
       "      <td>Sand</td>\n",
       "      <td>Oeuvres illustrÇes de George Sand</td>\n",
       "      <td>French</td>\n",
       "      <td>22545</td>\n",
       "      <td>7441</td>\n",
       "    </tr>\n",
       "  </tbody>\n",
       "</table>\n",
       "</div>"
      ],
      "text/plain": [
       "    Author                               Title Language  Length  Unique\n",
       "98    Sand                         La Marquise   French   14529    4755\n",
       "99    Sand                             L' Orco   French    8558    3134\n",
       "100   Sand                              Mattea   French   20902    6390\n",
       "101   Sand                             Metella   French   19411    5645\n",
       "102   Sand  Oeuvres illustrÇes de George Sand   French   22545    7441"
      ]
     },
     "execution_count": 148,
     "metadata": {},
     "output_type": "execute_result"
    }
   ],
   "source": [
    "stats.tail()"
   ]
  },
  {
   "cell_type": "code",
   "execution_count": 156,
   "id": "8ba57493",
   "metadata": {},
   "outputs": [],
   "source": [
    "c = stats[stats[\"Title\"] == \"Hamlet\"]"
   ]
  },
  {
   "cell_type": "code",
   "execution_count": 157,
   "id": "e367b62c",
   "metadata": {},
   "outputs": [
    {
     "data": {
      "text/html": [
       "<div>\n",
       "<style scoped>\n",
       "    .dataframe tbody tr th:only-of-type {\n",
       "        vertical-align: middle;\n",
       "    }\n",
       "\n",
       "    .dataframe tbody tr th {\n",
       "        vertical-align: top;\n",
       "    }\n",
       "\n",
       "    .dataframe thead th {\n",
       "        text-align: right;\n",
       "    }\n",
       "</style>\n",
       "<table border=\"1\" class=\"dataframe\">\n",
       "  <thead>\n",
       "    <tr style=\"text-align: right;\">\n",
       "      <th></th>\n",
       "      <th>Author</th>\n",
       "      <th>Title</th>\n",
       "      <th>Language</th>\n",
       "      <th>Length</th>\n",
       "      <th>Unique</th>\n",
       "    </tr>\n",
       "  </thead>\n",
       "  <tbody>\n",
       "    <tr>\n",
       "      <th>34</th>\n",
       "      <td>Shakespeare</td>\n",
       "      <td>Hamlet</td>\n",
       "      <td>German</td>\n",
       "      <td>30689</td>\n",
       "      <td>9469</td>\n",
       "    </tr>\n",
       "    <tr>\n",
       "      <th>40</th>\n",
       "      <td>Shakespeare</td>\n",
       "      <td>Hamlet</td>\n",
       "      <td>English</td>\n",
       "      <td>26701</td>\n",
       "      <td>6775</td>\n",
       "    </tr>\n",
       "    <tr>\n",
       "      <th>58</th>\n",
       "      <td>Shakespeare</td>\n",
       "      <td>Hamlet</td>\n",
       "      <td>Portuguese</td>\n",
       "      <td>29860</td>\n",
       "      <td>9491</td>\n",
       "    </tr>\n",
       "  </tbody>\n",
       "</table>\n",
       "</div>"
      ],
      "text/plain": [
       "         Author   Title    Language  Length  Unique\n",
       "34  Shakespeare  Hamlet      German   30689    9469\n",
       "40  Shakespeare  Hamlet     English   26701    6775\n",
       "58  Shakespeare  Hamlet  Portuguese   29860    9491"
      ]
     },
     "execution_count": 157,
     "metadata": {},
     "output_type": "execute_result"
    }
   ],
   "source": [
    "c"
   ]
  },
  {
   "cell_type": "code",
   "execution_count": 161,
   "id": "0f8ec305",
   "metadata": {},
   "outputs": [],
   "source": [
    "x1 = c.iloc[0][\"Length\"]\n",
    "x2 = c.iloc[1][\"Length\"]\n",
    "x3 = c.iloc[2][\"Length\"]"
   ]
  },
  {
   "cell_type": "code",
   "execution_count": 163,
   "id": "d617d377",
   "metadata": {},
   "outputs": [],
   "source": [
    "import matplotlib.pyplot as plt"
   ]
  },
  {
   "cell_type": "code",
   "execution_count": 165,
   "id": "eb9f1ee1",
   "metadata": {
    "scrolled": true
   },
   "outputs": [
    {
     "data": {
      "text/plain": [
       "<matplotlib.legend.Legend at 0x156a4c760>"
      ]
     },
     "execution_count": 165,
     "metadata": {},
     "output_type": "execute_result"
    },
    {
     "data": {
      "image/png": "[encoded data removed]",
      "text/plain": [
       "<Figure size 432x288 with 1 Axes>"
      ]
     },
     "metadata": {
      "needs_background": "light"
     },
     "output_type": "display_data"
    }
   ],
   "source": [
    "plt.plot(x1,'ro',label=c.iloc[0][\"Language\"])\n",
    "plt.plot(x2,'bo',label=c.iloc[1][\"Language\"])\n",
    "plt.plot(x3,'go',label=c.iloc[2][\"Language\"])\n",
    "plt.legend()"
   ]
  },
  {
   "cell_type": "markdown",
   "id": "27cfd063",
   "metadata": {},
   "source": [
    "We create a plot for our book stats table where the length of the books is plotted along the horizontal axis and unique words is plotted along the vertical axis."
   ]
  },
  {
   "cell_type": "code",
   "execution_count": 171,
   "id": "66592775",
   "metadata": {},
   "outputs": [
    {
     "data": {
      "image/png": "[encoded data removed]",
      "text/plain": [
       "<Figure size 432x288 with 1 Axes>"
      ]
     },
     "metadata": {
      "needs_background": "light"
     },
     "output_type": "display_data"
    }
   ],
   "source": [
    "plt.plot(stats.Length,stats.Unique,\"ro\");\n",
    "plt.title(\"Book Stats\")\n",
    "plt.xlabel(\"Length\")\n",
    "plt.ylabel(\"Unique Words\");"
   ]
  },
  {
   "cell_type": "code",
   "execution_count": 189,
   "id": "332c1375",
   "metadata": {},
   "outputs": [
    {
     "data": {
      "text/plain": [
       "(1000, 100000)"
      ]
     },
     "execution_count": 189,
     "metadata": {},
     "output_type": "execute_result"
    },
    {
     "data": {
      "image/png": "[encoded data removed]",
      "text/plain": [
       "<Figure size 720x720 with 1 Axes>"
      ]
     },
     "metadata": {
      "needs_background": "light"
     },
     "output_type": "display_data"
    }
   ],
   "source": [
    "plt.figure(figsize=(10,10))\n",
    "subset = stats[stats['Language']==\"English\"]\n",
    "plt.loglog(subset[\"Length\"],subset[\"Unique\"],\"o\",color=\"crimson\",label=\"English\");\n",
    "subset = stats[stats[\"Language\"]==\"French\"]\n",
    "plt.loglog(subset[\"Length\"],subset[\"Unique\"],\"o\",color=\"forestgreen\",label=\"French\");\n",
    "subset = stats[stats[\"Language\"]==\"Portuguese\"]\n",
    "plt.loglog(subset[\"Length\"],subset[\"Unique\"],\"o\",color=\"orange\",label=\"Portuguese\");\n",
    "subset = stats[stats[\"Language\"]==\"German\"]\n",
    "plt.loglog(subset[\"Length\"],subset[\"Unique\"],\"o\",color=\"blueviolet\",label=\"German\");\n",
    "plt.title(\"Book Statistics\");\n",
    "plt.legend()\n",
    "plt.xlabel(\"Book Length\")\n",
    "plt.ylabel(\"Number of Unique Words\")\n",
    "plt.xlim([10**3,10**6])\n",
    "plt.ylim([10**3,10**5])"
   ]
  },
  {
   "cell_type": "code",
   "execution_count": 183,
   "id": "322502b6",
   "metadata": {},
   "outputs": [
    {
     "data": {
      "text/plain": [
       "Text(0, 0.5, 'Number of Unique Words')"
      ]
     },
     "execution_count": 183,
     "metadata": {},
     "output_type": "execute_result"
    },
    {
     "data": {
      "image/png": "[encoded data removed]",
      "text/plain": [
       "<Figure size 720x720 with 1 Axes>"
      ]
     },
     "metadata": {
      "needs_background": "light"
     },
     "output_type": "display_data"
    }
   ],
   "source": [
    "plt.figure(figsize=(10,10))\n",
    "subset = stats[stats['Language']==\"English\"]\n",
    "plt.plot(subset[\"Length\"],subset[\"Unique\"],\"o\",color=\"crimson\",label=\"English\");\n",
    "subset = stats[stats[\"Language\"]==\"French\"]\n",
    "plt.plot(subset[\"Length\"],subset[\"Unique\"],\"o\",color=\"forestgreen\",label=\"French\");\n",
    "subset = stats[stats[\"Language\"]==\"Portuguese\"]\n",
    "plt.plot(subset[\"Length\"],subset[\"Unique\"],\"o\",color=\"orange\",label=\"Portuguese\");\n",
    "subset = stats[stats[\"Language\"]==\"German\"]\n",
    "plt.plot(subset[\"Language\"],subset[\"Unique\"],\"o\",color=\"blueviolet\",label=\"German\");\n",
    "plt.title(\"Book Statistics\");\n",
    "plt.legend()\n",
    "plt.xlabel(\"Book Length\")\n",
    "plt.ylabel(\"Number of Unique Words\")"
   ]
  }
 ],
 "metadata": {
  "kernelspec": {
   "display_name": "Python 3 (ipykernel)",
   "language": "python",
   "name": "python3"
  },
  "language_info": {
   "codemirror_mode": {
    "name": "ipython",
    "version": 3
   },
   "file_extension": ".py",
   "mimetype": "text/x-python",
   "name": "python",
   "nbconvert_exporter": "python",
   "pygments_lexer": "ipython3",
   "version": "3.9.12"
  }
 },
 "nbformat": 4,
 "nbformat_minor": 5
}
